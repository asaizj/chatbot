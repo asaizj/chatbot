{
 "cells": [
  {
   "cell_type": "code",
   "execution_count": null,
   "id": "62bb717d",
   "metadata": {},
   "outputs": [],
   "source": [
    "pip install langchain\n",
    "pip install --upgrade --quiet  langchain langchain-community langchainhub langchain-openai langchain-chroma bs4\n",
    "pip install openai\n",
    "pip install langchain-openai\n",
    "pip install pypdf\n",
    "pip install faiss-cpu\n",
    "pip install PyPDF2\n",
    "pip install pdfminer.six"
   ]
  },
  {
   "cell_type": "code",
   "execution_count": 1,
   "id": "ef343fdd",
   "metadata": {},
   "outputs": [],
   "source": [
    "import bs4\n",
    "import os\n",
    "import config\n",
    "from langchain_openai import ChatOpenAI\n",
    "from langchain import hub\n",
    "from langchain_chroma import Chroma\n",
    "from langchain_core.output_parsers import StrOutputParser\n",
    "from langchain_core.runnables import RunnablePassthrough\n",
    "from langchain_openai import OpenAIEmbeddings\n",
    "from langchain_text_splitters import RecursiveCharacterTextSplitter\n",
    "from langchain_community.document_loaders import PyPDFLoader\n",
    "from PyPDF2 import PdfReader\n",
    "from langchain_community.vectorstores import FAISS\n",
    "#from langchain_community.document_loaders import PyPDFDirectoryLoader"
   ]
  },
  {
   "cell_type": "code",
   "execution_count": 2,
   "id": "07fadee3",
   "metadata": {},
   "outputs": [],
   "source": [
    "os.environ[\"OPENAI_API_KEY\"] = config.OPENAI_API_KEY\n",
    "os.environ[\"LANGSMITH_API_KEY\"] = config.LANGSMITH_API_KEY"
   ]
  },
  {
   "cell_type": "code",
   "execution_count": 3,
   "id": "48e76779",
   "metadata": {},
   "outputs": [],
   "source": [
    "llm = ChatOpenAI()\n",
    "#chat_model = ChatOpenAI()"
   ]
  },
  {
   "cell_type": "code",
   "execution_count": null,
   "id": "7e5f5222",
   "metadata": {},
   "outputs": [],
   "source": [
    "# cargar PDFs desde un directorio\n",
    "\n",
    "#loader = PyPDFDirectoryLoader(\"example_data/\")\n",
    "# docs = loader.load()"
   ]
  },
  {
   "cell_type": "code",
   "execution_count": 15,
   "id": "be3bfc88",
   "metadata": {},
   "outputs": [],
   "source": [
    "# Se carga el archivo de condiciones generales y el de condiciones particulares para un caso\n",
    "#loader_ccgg = PyPDFLoader(\"CCGG_REALE.pdf\")\n",
    "loader_ccpp = PyPDFLoader(\"CCPP_REALE_ALE.pdf\")\n",
    "#pages_ccgg = loader_ccgg.load_and_split()\n",
    "pages_ccpp = loader_ccpp.load_and_split()"
   ]
  },
  {
   "cell_type": "code",
   "execution_count": null,
   "id": "acfe6a9b",
   "metadata": {},
   "outputs": [],
   "source": [
    "#pages_ccgg[0]"
   ]
  },
  {
   "cell_type": "code",
   "execution_count": 16,
   "id": "57c80618",
   "metadata": {},
   "outputs": [
    {
     "data": {
      "text/plain": [
       "Document(page_content='Reale SegurosGenerales,S.A.condomiciliosocialenC/PrÝncipedeVergara125,28002,Madrid,conCIFA-78520293inscritaenelRegistroMercantildeMadrid,tomo7795general,6748delaSecci¾n3¬delLibrodeSociedades,Folio153,Hojan║76036-1,inscripci¾n1¬\\nRSG0081703v02ES160P20230824REALE HOGAR\\nCertificado deseguro\\nN║POLIZA/SPTO.: 8172300068708 /0\\nREALE HOGAR PRINCIPAL\\n71/\\nwww.reale.es\\nCENTRO REALE 6052\\nBURGOS\\nAVDA. CID CAMPEADOR, 71║-B\\n09003 BURGOS\\nFax: 947273678\\nREALE.BURGOS@REALE.ES\\nMEDIADOR /033436 /\\nCORREDOR\\nASPURU CORREDURIA DESEGUROS, S.L\\nCLVIRGEN DEL MANZANO, 1\\n09004 BURGOS\\nTfno: 947063737\\naspuru@aspurucorreduria.com\\nASEGURADOR\\nA78520293 CIF:REALE SEGUROS GENERALES, S.A. PRINCIPE DEVERGARA, 125, 28002 MADRID\\nTOMADOR\\nPEÐA MONTERO, ANA\\n28045 MADRIDNIF: 47700596E\\nTelÚfono: 617205988CLJAIME ELCONQUISTADOR, 15, 6CDE\\nEmail: a.saizj06@gmail.com\\nASEGURADO\\nPEÐA MONTERO, ANA\\nNIF: 47700596E\\nEFECTO DEL SEGURO, DURACIËN YFORMA DEPAGO\\nEfecto:\\nVencimiento:24/11/2023\\n24/11/2024Duraci¾n del Seguro:\\nForma de Pago:ANUAL RENOVABLE\\nANUAL0h.del\\n0h.del\\nPERIODO DECERTIFICACIËN DEL SEGURO\\nEfecto:\\nVencimiento:24/11/2023\\n24/11/20240h.del\\n0h.del\\nIMPORTE DEL RECIBO YM╔TODO DEPAGO\\nImporte delRecibo Periodo Prima Consorcio D.G.S. Impuestos Total\\nAnual86,05 Inicial\\n97,60 Ç\\nCARTA RECIBO0,13 9,21 Del24-11-2023 al24-11-2024 2,21 97,60 Ç\\nMÚtodo depago:', metadata={'source': 'CCPP_REALE_ALE.pdf', 'page': 0})"
      ]
     },
     "execution_count": 16,
     "metadata": {},
     "output_type": "execute_result"
    }
   ],
   "source": [
    "pages_ccpp[0]"
   ]
  },
  {
   "cell_type": "code",
   "execution_count": 17,
   "id": "8b369f3b",
   "metadata": {},
   "outputs": [
    {
     "name": "stdout",
     "output_type": "stream",
     "text": [
      "5: Reale SegurosGenerales,S.A.condomiciliosocialenC/PrÝncipedeVergara125,28002,Madrid,conCIFA-78520293inscritaenelRegistroMercantildeMadrid,tomo7795general,6748delaSecci¾n3¬delLibrodeSociedades,Folio153,Hojan║76036-1,inscripci¾n1¬\n",
      "RSG0081703v02ES160P20230824REALE HOGAR\n",
      "Certificado deseguro\n",
      "www.reale.es\n",
      "2: Reale SegurosGenerales,S.A.condomiciliosocialenC/PrÝncipedeVergara125,28002,Madrid,conCIFA-78520293inscritaenelRegistroMercantildeMadrid,tomo7795general,6748delaSecci¾n3¬delLibrodeSociedades,Folio153,Hojan║76036-1,inscripci¾n1¬\n",
      "RSG0081703v02ES160P20230824REALE HOGAR\n",
      "Certificado deseguro\n",
      "www.reale.es\n",
      "0: Reale SegurosGenerales,S.A.condomiciliosocialenC/PrÝncipedeVergara125,28002,Madrid,conCIFA-78520293inscritaenelRegistroMercantildeMadrid,tomo7795general,6748delaSecci¾n3¬delLibrodeSociedades,Folio153,Hojan║76036-1,inscripci¾n1¬\n",
      "RSG0081703v02ES160P20230824REALE HOGAR\n",
      "Certificado deseguro\n",
      "N║POLIZA/SPT\n",
      "6: Certificado deseguroREALE HOGAR\n",
      "www.reale.es77/N║POLIZA/SPTO.: 8172300068708 /0\n",
      "POL═TICA DEPROTECCIËN DEDATOS\n",
      "Acontinuaci¾n, lainformaci¾n bßsica yesencial que debes conocer sobre eltratamiento que hacemos enReale sobre tus datos. Te\n",
      "recomendamos visites nuestra pßgina web y leas nuestra PolÝtica co\n"
     ]
    }
   ],
   "source": [
    "# búsqueda de similitud de documentos basada en vectores de características\n",
    "\n",
    "# se crea índice a partir del documento de ccpp. OpenAIEmbeddings se utiliza para representar los docs como vectores de características\n",
    "faiss_index_ccpp = FAISS.from_documents(pages_ccpp, OpenAIEmbeddings())\n",
    "\n",
    "# se realiza búsqueda de similitud\n",
    "docs = faiss_index_ccpp.similarity_search(\"¿Cuál es el importe del recibo para la póliza 8172300068708‬?\")\n",
    "\n",
    "# se itera sobre los documentos devueltos previamente y se imprime información sobre ellos.\n",
    "for doc in docs:\n",
    "    print(str(doc.metadata[\"page\"]) + \":\", doc.page_content[:300])"
   ]
  },
  {
   "cell_type": "code",
   "execution_count": 18,
   "id": "2ddb96f7",
   "metadata": {},
   "outputs": [],
   "source": [
    "# se dividen los documentos en fragmentos de 1000 caracteres con 200 caracteres de superposición entre fragmentos\n",
    "text_splitter = RecursiveCharacterTextSplitter(chunk_size = 1000, chunk_overlap = 200)\n",
    "splits = text_splitter.split_documents(docs)"
   ]
  },
  {
   "cell_type": "code",
   "execution_count": 19,
   "id": "7ea39da5",
   "metadata": {},
   "outputs": [
    {
     "data": {
      "text/plain": [
       "11"
      ]
     },
     "execution_count": 19,
     "metadata": {},
     "output_type": "execute_result"
    }
   ],
   "source": [
    "len(splits)"
   ]
  },
  {
   "cell_type": "code",
   "execution_count": 20,
   "id": "f6d93a6e",
   "metadata": {},
   "outputs": [
    {
     "data": {
      "text/plain": [
       "508"
      ]
     },
     "execution_count": 20,
     "metadata": {},
     "output_type": "execute_result"
    }
   ],
   "source": [
    "len(splits[0].page_content)"
   ]
  },
  {
   "cell_type": "code",
   "execution_count": 21,
   "id": "e79c4fc0",
   "metadata": {},
   "outputs": [
    {
     "data": {
      "text/plain": [
       "{'source': 'CCPP_REALE_ALE.pdf', 'page': 6}"
      ]
     },
     "execution_count": 21,
     "metadata": {},
     "output_type": "execute_result"
    }
   ],
   "source": [
    "splits[10].metadata"
   ]
  },
  {
   "cell_type": "code",
   "execution_count": 22,
   "id": "fab7baa5",
   "metadata": {},
   "outputs": [],
   "source": [
    "# se almacenan los chunks en una base de datos de vectores\n",
    "vectorstore = Chroma.from_documents(documents = splits, embedding = OpenAIEmbeddings())"
   ]
  },
  {
   "cell_type": "code",
   "execution_count": 23,
   "id": "7166a328",
   "metadata": {},
   "outputs": [],
   "source": [
    "# la lógica de la app es que se responda la pregunta de un usuario según lo almacenado en el vectorstore\n",
    "retriever = vectorstore.as_retriever(search_type = \"similarity\", search_kwargs = {\"k\": 6})\n",
    "retrieved_docs = retriever.invoke(\"¿Cuál es el importe del recibo para la póliza 8172300068708‬?\")"
   ]
  },
  {
   "cell_type": "code",
   "execution_count": 24,
   "id": "341c8ea0",
   "metadata": {},
   "outputs": [
    {
     "data": {
      "text/plain": [
       "6"
      ]
     },
     "execution_count": 24,
     "metadata": {},
     "output_type": "execute_result"
    }
   ],
   "source": [
    "len(retrieved_docs)"
   ]
  },
  {
   "cell_type": "code",
   "execution_count": 25,
   "id": "16df95a7",
   "metadata": {},
   "outputs": [
    {
     "name": "stdout",
     "output_type": "stream",
     "text": [
      "Email: a.saizj06@gmail.com\n",
      "ASEGURADO\n",
      "PEÐA MONTERO, ANA\n",
      "NIF: 47700596E\n",
      "EFECTO DEL SEGURO, DURACIËN YFORMA DEPAGO\n",
      "Efecto:\n",
      "Vencimiento:24/11/2023\n",
      "24/11/2024Duraci¾n del Seguro:\n",
      "Forma de Pago:ANUAL RENOVABLE\n",
      "ANUAL0h.del\n",
      "0h.del\n",
      "PERIODO DECERTIFICACIËN DEL SEGURO\n",
      "Efecto:\n",
      "Vencimiento:24/11/2023\n",
      "24/11/20240h.del\n",
      "0h.del\n",
      "IMPORTE DEL RECIBO YM╔TODO DEPAGO\n",
      "Importe delRecibo Periodo Prima Consorcio D.G.S. Impuestos Total\n",
      "Anual86,05 Inicial\n",
      "97,60 Ç\n",
      "CARTA RECIBO0,13 9,21 Del24-11-2023 al24-11-2024 2,21 97,60 Ç\n",
      "MÚtodo depago:\n"
     ]
    }
   ],
   "source": [
    "print(retrieved_docs[0].page_content)"
   ]
  },
  {
   "cell_type": "code",
   "execution_count": 26,
   "id": "5d3c979c",
   "metadata": {},
   "outputs": [],
   "source": [
    "prompt = hub.pull(\"rlm/rag-prompt\")"
   ]
  },
  {
   "cell_type": "code",
   "execution_count": 27,
   "id": "05ccad87",
   "metadata": {},
   "outputs": [
    {
     "data": {
      "text/plain": [
       "[HumanMessage(content=\"You are an assistant for question-answering tasks. Use the following pieces of retrieved context to answer the question. If you don't know the answer, just say that you don't know. Use three sentences maximum and keep the answer concise.\\nQuestion: filler question \\nContext: filler context \\nAnswer:\")]"
      ]
     },
     "execution_count": 27,
     "metadata": {},
     "output_type": "execute_result"
    }
   ],
   "source": [
    "example_messages = prompt.invoke(\n",
    "    {\"context\": \"filler context\", \"question\": \"filler question\"}\n",
    ").to_messages()\n",
    "example_messages"
   ]
  },
  {
   "cell_type": "code",
   "execution_count": 28,
   "id": "8dcd4877",
   "metadata": {},
   "outputs": [
    {
     "name": "stdout",
     "output_type": "stream",
     "text": [
      "You are an assistant for question-answering tasks. Use the following pieces of retrieved context to answer the question. If you don't know the answer, just say that you don't know. Use three sentences maximum and keep the answer concise.\n",
      "Question: filler question \n",
      "Context: filler context \n",
      "Answer:\n"
     ]
    }
   ],
   "source": [
    "print(example_messages[0].content)"
   ]
  },
  {
   "cell_type": "code",
   "execution_count": 29,
   "id": "2283dfbf",
   "metadata": {},
   "outputs": [],
   "source": [
    "def format_docs(docs):\n",
    "    return \"\\n\\n\".join(doc.page_content for doc in docs)\n",
    "\n",
    "\n",
    "rag_chain = (\n",
    "    {\"context\": retriever | format_docs, \"question\": RunnablePassthrough()}\n",
    "    | prompt\n",
    "    | llm\n",
    "    | StrOutputParser()\n",
    ")"
   ]
  },
  {
   "cell_type": "code",
   "execution_count": 30,
   "id": "6ace7b94",
   "metadata": {},
   "outputs": [
    {
     "name": "stdout",
     "output_type": "stream",
     "text": [
      "El importe del recibo para la póliza 8172300068708 es de 97,60 €. El periodo de cobertura va del 24-11-2023 al 24-11-2024. El método de pago no está especificado en el contexto proporcionado."
     ]
    }
   ],
   "source": [
    "for chunk in rag_chain.stream(\"¿Cuál es el importe del recibo para la póliza 8172300068708‬?\"):\n",
    "    print(chunk, end = \"\", flush = True)"
   ]
  },
  {
   "cell_type": "code",
   "execution_count": null,
   "id": "38e8a8bd",
   "metadata": {},
   "outputs": [],
   "source": [
    "# cleanup\n",
    "#vectorstore.delete_collection()"
   ]
  }
 ],
 "metadata": {
  "kernelspec": {
   "display_name": "Python 3 (ipykernel)",
   "language": "python",
   "name": "python3"
  },
  "language_info": {
   "codemirror_mode": {
    "name": "ipython",
    "version": 3
   },
   "file_extension": ".py",
   "mimetype": "text/x-python",
   "name": "python",
   "nbconvert_exporter": "python",
   "pygments_lexer": "ipython3",
   "version": "3.9.13"
  }
 },
 "nbformat": 4,
 "nbformat_minor": 5
}
